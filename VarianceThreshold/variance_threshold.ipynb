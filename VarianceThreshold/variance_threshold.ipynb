{
 "cells": [
  {
   "cell_type": "code",
   "execution_count": 3,
   "metadata": {},
   "outputs": [],
   "source": [
    "## VarianceThreshold\n",
    "from sklearn.feature_selection import VarianceThreshold"
   ]
  },
  {
   "cell_type": "code",
   "execution_count": 9,
   "metadata": {},
   "outputs": [
    {
     "name": "stdout",
     "output_type": "stream",
     "text": [
      "Before:  [[2, 8, 7, 9], [3, 8, 6, 8], [7, 8, 10, 10]]\n",
      "After:\n",
      "[[ 2  7  9]\n",
      " [ 3  6  8]\n",
      " [ 7 10 10]]\n",
      "Variance:  [4.66666667 0.         2.88888889 0.66666667]\n"
     ]
    }
   ],
   "source": [
    "## 創建數據集\n",
    "x = [[2, 8, 7, 9], [3, 8, 6, 8], [7, 8, 10, 10]]\n",
    "print('Before: ', x)\n",
    "selector = VarianceThreshold()\n",
    "print('After:')\n",
    "print(selector.fit_transform(x))\n",
    "print('Variance: ', selector.variances_)"
   ]
  },
  {
   "cell_type": "code",
   "execution_count": 19,
   "metadata": {},
   "outputs": [
    {
     "name": "stdout",
     "output_type": "stream",
     "text": [
      "Before:  [[0, 1, 0, 1], [1, 0, 1, 1], [0, 0, 1, 1], [1, 0, 1, 0]]\n",
      "After:\n",
      "[[0 1 0 1]\n",
      " [1 0 1 1]\n",
      " [0 0 1 1]\n",
      " [1 0 1 0]]\n"
     ]
    }
   ],
   "source": [
    "## 構建數據集\n",
    "x= [[0, 1, 0, 1], [1, 0, 1, 1], [0, 0, 1, 1], [1, 0, 1, 0]]\n",
    "print('Before: ', x)\n",
    "selector = VarianceThreshold(threshold = (0.8 * (1 - 0.8)))\n",
    "print('After:')\n",
    "print (selector.fit_transform(x))"
   ]
  },
  {
   "cell_type": "code",
   "execution_count": 33,
   "metadata": {},
   "outputs": [
    {
     "data": {
      "text/plain": [
       "array([[  3,   7,   9],\n",
       "       [  4,   6,  10],\n",
       "       [  8,   2, 101]], dtype=int64)"
      ]
     },
     "execution_count": 33,
     "metadata": {},
     "output_type": "execute_result"
    }
   ],
   "source": [
    "import pandas as pd\n",
    "\n",
    "## 創建數據集 - 訓練集與測試集\n",
    "a = [[2, 8, 7, 9], [3, 8, 6, 8], [7, 8, 10,10]]\n",
    "b = [[3, 3, 7, 9], [4, 2, 6, 10], [8, 4, 2, 101]]\n",
    "x_train = pd.DataFrame(a, columns = ['A','B', 'C', 'D'])\n",
    "x_test = pd.DataFrame(b, columns = ['A','B', 'C', 'D'])\n",
    "selector = VarianceThreshold()                      \n",
    "                    \n",
    "## 擬和訓練集，在轉換到測試集\n",
    "selector.fit(x_train)\n",
    "selector.transform(x_test)"
   ]
  },
  {
   "cell_type": "code",
   "execution_count": 80,
   "metadata": {},
   "outputs": [
    {
     "name": "stdout",
     "output_type": "stream",
     "text": [
      "No Features Name: \n",
      "[[ 3  7  9]\n",
      " [ 4  6 10]\n",
      " [ 8  2 10]]\n",
      "original Features:  ['A', 'B', 'C', 'D']\n",
      "Preserve Features Index:  [0 2 3]\n",
      "Final Features:  ['A', 'C', 'D']\n"
     ]
    },
    {
     "data": {
      "text/html": [
       "<div>\n",
       "<style scoped>\n",
       "    .dataframe tbody tr th:only-of-type {\n",
       "        vertical-align: middle;\n",
       "    }\n",
       "\n",
       "    .dataframe tbody tr th {\n",
       "        vertical-align: top;\n",
       "    }\n",
       "\n",
       "    .dataframe thead th {\n",
       "        text-align: right;\n",
       "    }\n",
       "</style>\n",
       "<table border=\"1\" class=\"dataframe\">\n",
       "  <thead>\n",
       "    <tr style=\"text-align: right;\">\n",
       "      <th></th>\n",
       "      <th>A</th>\n",
       "      <th>C</th>\n",
       "      <th>D</th>\n",
       "    </tr>\n",
       "  </thead>\n",
       "  <tbody>\n",
       "    <tr>\n",
       "      <th>0</th>\n",
       "      <td>3</td>\n",
       "      <td>7</td>\n",
       "      <td>9</td>\n",
       "    </tr>\n",
       "    <tr>\n",
       "      <th>1</th>\n",
       "      <td>4</td>\n",
       "      <td>6</td>\n",
       "      <td>10</td>\n",
       "    </tr>\n",
       "    <tr>\n",
       "      <th>2</th>\n",
       "      <td>8</td>\n",
       "      <td>2</td>\n",
       "      <td>10</td>\n",
       "    </tr>\n",
       "  </tbody>\n",
       "</table>\n",
       "</div>"
      ],
      "text/plain": [
       "   A  C   D\n",
       "0  3  7   9\n",
       "1  4  6  10\n",
       "2  8  2  10"
      ]
     },
     "execution_count": 80,
     "metadata": {},
     "output_type": "execute_result"
    }
   ],
   "source": [
    "## 創建數據集 - 訓練集與測試集\n",
    "a = [[2, 8, 7, 9], [3, 8, 6, 8], [7, 8, 10, 10]]\n",
    "b = [[3, 3, 7, 9], [4, 2, 6, 10], [8, 4, 2, 10]]\n",
    "x_train = pd.DataFrame(a, columns = [ 'A', 'B', 'C', 'D'])\n",
    "x_test = pd.DataFrame(b, columns = ['A', 'B', 'C', 'D'])\n",
    "selector = VarianceThreshold()\n",
    "\n",
    "## 擬和訓練集，在轉換到測試集中\n",
    "selector.fit(x_train)\n",
    "print('No Features Name: ')\n",
    "print(selector.transform(x_test))\n",
    "\n",
    "## 保留特徵名稱\n",
    "features_name = x_train.columns.values.tolist()\n",
    "print('original Features: ', features_name)\n",
    "\n",
    "## 被留下來的特徵索引\n",
    "preserve_feature_index = selector.get_support(indices = True)\n",
    "\n",
    "print('Preserve Features Index: ', preserve_feature_index)\n",
    "result_features = []\n",
    "for i in preserve_feature_index:\n",
    "    result_features.append(features_name[i])\n",
    "\n",
    "print('Final Features: ', result_features)\n",
    "\n",
    "## 组合成最終結果\n",
    "pd.DataFrame(selector.transform(x_test), columns = result_features)"
   ]
  }
 ],
 "metadata": {
  "kernelspec": {
   "display_name": "Python 3",
   "language": "python",
   "name": "python3"
  },
  "language_info": {
   "codemirror_mode": {
    "name": "ipython",
    "version": 3
   },
   "file_extension": ".py",
   "mimetype": "text/x-python",
   "name": "python",
   "nbconvert_exporter": "python",
   "pygments_lexer": "ipython3",
   "version": "3.7.6"
  }
 },
 "nbformat": 4,
 "nbformat_minor": 4
}
