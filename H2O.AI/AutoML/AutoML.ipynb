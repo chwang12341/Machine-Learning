{
 "cells": [
  {
   "cell_type": "code",
   "execution_count": 3,
   "metadata": {},
   "outputs": [
    {
     "name": "stdout",
     "output_type": "stream",
     "text": [
      "Checking whether there is an H2O instance running at http://localhost:54321 . connected.\n"
     ]
    },
    {
     "data": {
      "text/html": [
       "<div style=\"overflow:auto\"><table style=\"width:50%\"><tr><td>H2O_cluster_uptime:</td>\n",
       "<td>10 mins 40 secs</td></tr>\n",
       "<tr><td>H2O_cluster_timezone:</td>\n",
       "<td>+08:00</td></tr>\n",
       "<tr><td>H2O_data_parsing_timezone:</td>\n",
       "<td>UTC</td></tr>\n",
       "<tr><td>H2O_cluster_version:</td>\n",
       "<td>3.32.0.3</td></tr>\n",
       "<tr><td>H2O_cluster_version_age:</td>\n",
       "<td>1 month and 2 days </td></tr>\n",
       "<tr><td>H2O_cluster_name:</td>\n",
       "<td>H2O_from_python_user_ng09tw</td></tr>\n",
       "<tr><td>H2O_cluster_total_nodes:</td>\n",
       "<td>1</td></tr>\n",
       "<tr><td>H2O_cluster_free_memory:</td>\n",
       "<td>49.13 Mb</td></tr>\n",
       "<tr><td>H2O_cluster_total_cores:</td>\n",
       "<td>12</td></tr>\n",
       "<tr><td>H2O_cluster_allowed_cores:</td>\n",
       "<td>12</td></tr>\n",
       "<tr><td>H2O_cluster_status:</td>\n",
       "<td>locked, healthy</td></tr>\n",
       "<tr><td>H2O_connection_url:</td>\n",
       "<td>http://localhost:54321</td></tr>\n",
       "<tr><td>H2O_connection_proxy:</td>\n",
       "<td>{\"http\": null, \"https\": null}</td></tr>\n",
       "<tr><td>H2O_internal_security:</td>\n",
       "<td>False</td></tr>\n",
       "<tr><td>H2O_API_Extensions:</td>\n",
       "<td>Amazon S3, Algos, AutoML, Core V3, TargetEncoder, Core V4</td></tr>\n",
       "<tr><td>Python_version:</td>\n",
       "<td>3.7.6 final</td></tr></table></div>"
      ],
      "text/plain": [
       "--------------------------  ---------------------------------------------------------\n",
       "H2O_cluster_uptime:         10 mins 40 secs\n",
       "H2O_cluster_timezone:       +08:00\n",
       "H2O_data_parsing_timezone:  UTC\n",
       "H2O_cluster_version:        3.32.0.3\n",
       "H2O_cluster_version_age:    1 month and 2 days\n",
       "H2O_cluster_name:           H2O_from_python_user_ng09tw\n",
       "H2O_cluster_total_nodes:    1\n",
       "H2O_cluster_free_memory:    49.13 Mb\n",
       "H2O_cluster_total_cores:    12\n",
       "H2O_cluster_allowed_cores:  12\n",
       "H2O_cluster_status:         locked, healthy\n",
       "H2O_connection_url:         http://localhost:54321\n",
       "H2O_connection_proxy:       {\"http\": null, \"https\": null}\n",
       "H2O_internal_security:      False\n",
       "H2O_API_Extensions:         Amazon S3, Algos, AutoML, Core V3, TargetEncoder, Core V4\n",
       "Python_version:             3.7.6 final\n",
       "--------------------------  ---------------------------------------------------------"
      ]
     },
     "metadata": {},
     "output_type": "display_data"
    }
   ],
   "source": [
    "## 導入H2O套件\n",
    "import h2o\n",
    "\n",
    "## 導入H2O中的AutoML套件\n",
    "from h2o.automl import H2OAutoML\n",
    "\n",
    "\n",
    "## 初始化H2O\n",
    "h2o.init()"
   ]
  },
  {
   "cell_type": "code",
   "execution_count": 6,
   "metadata": {},
   "outputs": [
    {
     "name": "stdout",
     "output_type": "stream",
     "text": [
      "Parse progress: |█████████████████████████████████████████████████████████| 100%\n"
     ]
    },
    {
     "data": {
      "text/html": [
       "<table>\n",
       "<thead>\n",
       "<tr><th style=\"text-align: right;\">  fixed acidity</th><th style=\"text-align: right;\">  volatile acidity</th><th style=\"text-align: right;\">  citric acid</th><th style=\"text-align: right;\">  residual sugar</th><th style=\"text-align: right;\">  chlorides</th><th style=\"text-align: right;\">  free sulfur dioxide</th><th style=\"text-align: right;\">  total sulfur dioxide</th><th style=\"text-align: right;\">  density</th><th style=\"text-align: right;\">  pH</th><th style=\"text-align: right;\">  sulphates</th><th style=\"text-align: right;\">  alcohol</th><th style=\"text-align: right;\">  quality</th></tr>\n",
       "</thead>\n",
       "<tbody>\n",
       "<tr><td style=\"text-align: right;\">            7  </td><td style=\"text-align: right;\">              0.27</td><td style=\"text-align: right;\">         0.36</td><td style=\"text-align: right;\">            20.7</td><td style=\"text-align: right;\">      0.045</td><td style=\"text-align: right;\">                   45</td><td style=\"text-align: right;\">                   170</td><td style=\"text-align: right;\">   1.001 </td><td style=\"text-align: right;\">3   </td><td style=\"text-align: right;\">       0.45</td><td style=\"text-align: right;\">      8.8</td><td style=\"text-align: right;\">        6</td></tr>\n",
       "<tr><td style=\"text-align: right;\">            6.3</td><td style=\"text-align: right;\">              0.3 </td><td style=\"text-align: right;\">         0.34</td><td style=\"text-align: right;\">             1.6</td><td style=\"text-align: right;\">      0.049</td><td style=\"text-align: right;\">                   14</td><td style=\"text-align: right;\">                   132</td><td style=\"text-align: right;\">   0.994 </td><td style=\"text-align: right;\">3.3 </td><td style=\"text-align: right;\">       0.49</td><td style=\"text-align: right;\">      9.5</td><td style=\"text-align: right;\">        6</td></tr>\n",
       "<tr><td style=\"text-align: right;\">            8.1</td><td style=\"text-align: right;\">              0.28</td><td style=\"text-align: right;\">         0.4 </td><td style=\"text-align: right;\">             6.9</td><td style=\"text-align: right;\">      0.05 </td><td style=\"text-align: right;\">                   30</td><td style=\"text-align: right;\">                    97</td><td style=\"text-align: right;\">   0.9951</td><td style=\"text-align: right;\">3.26</td><td style=\"text-align: right;\">       0.44</td><td style=\"text-align: right;\">     10.1</td><td style=\"text-align: right;\">        6</td></tr>\n",
       "<tr><td style=\"text-align: right;\">            7.2</td><td style=\"text-align: right;\">              0.23</td><td style=\"text-align: right;\">         0.32</td><td style=\"text-align: right;\">             8.5</td><td style=\"text-align: right;\">      0.058</td><td style=\"text-align: right;\">                   47</td><td style=\"text-align: right;\">                   186</td><td style=\"text-align: right;\">   0.9956</td><td style=\"text-align: right;\">3.19</td><td style=\"text-align: right;\">       0.4 </td><td style=\"text-align: right;\">      9.9</td><td style=\"text-align: right;\">        6</td></tr>\n",
       "<tr><td style=\"text-align: right;\">            7.2</td><td style=\"text-align: right;\">              0.23</td><td style=\"text-align: right;\">         0.32</td><td style=\"text-align: right;\">             8.5</td><td style=\"text-align: right;\">      0.058</td><td style=\"text-align: right;\">                   47</td><td style=\"text-align: right;\">                   186</td><td style=\"text-align: right;\">   0.9956</td><td style=\"text-align: right;\">3.19</td><td style=\"text-align: right;\">       0.4 </td><td style=\"text-align: right;\">      9.9</td><td style=\"text-align: right;\">        6</td></tr>\n",
       "<tr><td style=\"text-align: right;\">            8.1</td><td style=\"text-align: right;\">              0.28</td><td style=\"text-align: right;\">         0.4 </td><td style=\"text-align: right;\">             6.9</td><td style=\"text-align: right;\">      0.05 </td><td style=\"text-align: right;\">                   30</td><td style=\"text-align: right;\">                    97</td><td style=\"text-align: right;\">   0.9951</td><td style=\"text-align: right;\">3.26</td><td style=\"text-align: right;\">       0.44</td><td style=\"text-align: right;\">     10.1</td><td style=\"text-align: right;\">        6</td></tr>\n",
       "<tr><td style=\"text-align: right;\">            6.2</td><td style=\"text-align: right;\">              0.32</td><td style=\"text-align: right;\">         0.16</td><td style=\"text-align: right;\">             7  </td><td style=\"text-align: right;\">      0.045</td><td style=\"text-align: right;\">                   30</td><td style=\"text-align: right;\">                   136</td><td style=\"text-align: right;\">   0.9949</td><td style=\"text-align: right;\">3.18</td><td style=\"text-align: right;\">       0.47</td><td style=\"text-align: right;\">      9.6</td><td style=\"text-align: right;\">        6</td></tr>\n",
       "<tr><td style=\"text-align: right;\">            7  </td><td style=\"text-align: right;\">              0.27</td><td style=\"text-align: right;\">         0.36</td><td style=\"text-align: right;\">            20.7</td><td style=\"text-align: right;\">      0.045</td><td style=\"text-align: right;\">                   45</td><td style=\"text-align: right;\">                   170</td><td style=\"text-align: right;\">   1.001 </td><td style=\"text-align: right;\">3   </td><td style=\"text-align: right;\">       0.45</td><td style=\"text-align: right;\">      8.8</td><td style=\"text-align: right;\">        6</td></tr>\n",
       "<tr><td style=\"text-align: right;\">            6.3</td><td style=\"text-align: right;\">              0.3 </td><td style=\"text-align: right;\">         0.34</td><td style=\"text-align: right;\">             1.6</td><td style=\"text-align: right;\">      0.049</td><td style=\"text-align: right;\">                   14</td><td style=\"text-align: right;\">                   132</td><td style=\"text-align: right;\">   0.994 </td><td style=\"text-align: right;\">3.3 </td><td style=\"text-align: right;\">       0.49</td><td style=\"text-align: right;\">      9.5</td><td style=\"text-align: right;\">        6</td></tr>\n",
       "<tr><td style=\"text-align: right;\">            8.1</td><td style=\"text-align: right;\">              0.22</td><td style=\"text-align: right;\">         0.43</td><td style=\"text-align: right;\">             1.5</td><td style=\"text-align: right;\">      0.044</td><td style=\"text-align: right;\">                   28</td><td style=\"text-align: right;\">                   129</td><td style=\"text-align: right;\">   0.9938</td><td style=\"text-align: right;\">3.22</td><td style=\"text-align: right;\">       0.45</td><td style=\"text-align: right;\">     11  </td><td style=\"text-align: right;\">        6</td></tr>\n",
       "</tbody>\n",
       "</table>"
      ]
     },
     "metadata": {},
     "output_type": "display_data"
    },
    {
     "data": {
      "text/plain": []
     },
     "execution_count": 6,
     "metadata": {},
     "output_type": "execute_result"
    }
   ],
   "source": [
    "## 導入數據集\n",
    "wine_data = h2o.import_file(\"data/winequality-white.csv\")\n",
    "\n",
    "## 定義我們的預測變量，也就是自變量x\n",
    "predictors = wine_data.columns\n",
    "\n",
    "## 將響應變量(目標值)，也就是應變量y拿掉\n",
    "predictors.remove('quality')\n",
    "\n",
    "## 顯示數據集\n",
    "wine_data"
   ]
  },
  {
   "cell_type": "code",
   "execution_count": 7,
   "metadata": {},
   "outputs": [
    {
     "data": {
      "text/html": [
       "<table>\n",
       "<thead>\n",
       "<tr><th style=\"text-align: right;\">  fixed acidity</th><th style=\"text-align: right;\">  volatile acidity</th><th style=\"text-align: right;\">  citric acid</th><th style=\"text-align: right;\">  residual sugar</th><th style=\"text-align: right;\">  chlorides</th><th style=\"text-align: right;\">  free sulfur dioxide</th><th style=\"text-align: right;\">  total sulfur dioxide</th><th style=\"text-align: right;\">  density</th><th style=\"text-align: right;\">  pH</th><th style=\"text-align: right;\">  sulphates</th><th style=\"text-align: right;\">  alcohol</th><th style=\"text-align: right;\">  quality</th></tr>\n",
       "</thead>\n",
       "<tbody>\n",
       "<tr><td style=\"text-align: right;\">            7  </td><td style=\"text-align: right;\">              0.27</td><td style=\"text-align: right;\">         0.36</td><td style=\"text-align: right;\">           20.7 </td><td style=\"text-align: right;\">      0.045</td><td style=\"text-align: right;\">                   45</td><td style=\"text-align: right;\">                   170</td><td style=\"text-align: right;\">   1.001 </td><td style=\"text-align: right;\">3   </td><td style=\"text-align: right;\">       0.45</td><td style=\"text-align: right;\">      8.8</td><td style=\"text-align: right;\">        6</td></tr>\n",
       "<tr><td style=\"text-align: right;\">            6.3</td><td style=\"text-align: right;\">              0.3 </td><td style=\"text-align: right;\">         0.34</td><td style=\"text-align: right;\">            1.6 </td><td style=\"text-align: right;\">      0.049</td><td style=\"text-align: right;\">                   14</td><td style=\"text-align: right;\">                   132</td><td style=\"text-align: right;\">   0.994 </td><td style=\"text-align: right;\">3.3 </td><td style=\"text-align: right;\">       0.49</td><td style=\"text-align: right;\">      9.5</td><td style=\"text-align: right;\">        6</td></tr>\n",
       "<tr><td style=\"text-align: right;\">            8.1</td><td style=\"text-align: right;\">              0.28</td><td style=\"text-align: right;\">         0.4 </td><td style=\"text-align: right;\">            6.9 </td><td style=\"text-align: right;\">      0.05 </td><td style=\"text-align: right;\">                   30</td><td style=\"text-align: right;\">                    97</td><td style=\"text-align: right;\">   0.9951</td><td style=\"text-align: right;\">3.26</td><td style=\"text-align: right;\">       0.44</td><td style=\"text-align: right;\">     10.1</td><td style=\"text-align: right;\">        6</td></tr>\n",
       "<tr><td style=\"text-align: right;\">            7.2</td><td style=\"text-align: right;\">              0.23</td><td style=\"text-align: right;\">         0.32</td><td style=\"text-align: right;\">            8.5 </td><td style=\"text-align: right;\">      0.058</td><td style=\"text-align: right;\">                   47</td><td style=\"text-align: right;\">                   186</td><td style=\"text-align: right;\">   0.9956</td><td style=\"text-align: right;\">3.19</td><td style=\"text-align: right;\">       0.4 </td><td style=\"text-align: right;\">      9.9</td><td style=\"text-align: right;\">        6</td></tr>\n",
       "<tr><td style=\"text-align: right;\">            8.1</td><td style=\"text-align: right;\">              0.28</td><td style=\"text-align: right;\">         0.4 </td><td style=\"text-align: right;\">            6.9 </td><td style=\"text-align: right;\">      0.05 </td><td style=\"text-align: right;\">                   30</td><td style=\"text-align: right;\">                    97</td><td style=\"text-align: right;\">   0.9951</td><td style=\"text-align: right;\">3.26</td><td style=\"text-align: right;\">       0.44</td><td style=\"text-align: right;\">     10.1</td><td style=\"text-align: right;\">        6</td></tr>\n",
       "<tr><td style=\"text-align: right;\">            8.1</td><td style=\"text-align: right;\">              0.22</td><td style=\"text-align: right;\">         0.43</td><td style=\"text-align: right;\">            1.5 </td><td style=\"text-align: right;\">      0.044</td><td style=\"text-align: right;\">                   28</td><td style=\"text-align: right;\">                   129</td><td style=\"text-align: right;\">   0.9938</td><td style=\"text-align: right;\">3.22</td><td style=\"text-align: right;\">       0.45</td><td style=\"text-align: right;\">     11  </td><td style=\"text-align: right;\">        6</td></tr>\n",
       "<tr><td style=\"text-align: right;\">            8.1</td><td style=\"text-align: right;\">              0.27</td><td style=\"text-align: right;\">         0.41</td><td style=\"text-align: right;\">            1.45</td><td style=\"text-align: right;\">      0.033</td><td style=\"text-align: right;\">                   11</td><td style=\"text-align: right;\">                    63</td><td style=\"text-align: right;\">   0.9908</td><td style=\"text-align: right;\">2.99</td><td style=\"text-align: right;\">       0.56</td><td style=\"text-align: right;\">     12  </td><td style=\"text-align: right;\">        5</td></tr>\n",
       "<tr><td style=\"text-align: right;\">            8.6</td><td style=\"text-align: right;\">              0.23</td><td style=\"text-align: right;\">         0.4 </td><td style=\"text-align: right;\">            4.2 </td><td style=\"text-align: right;\">      0.035</td><td style=\"text-align: right;\">                   17</td><td style=\"text-align: right;\">                   109</td><td style=\"text-align: right;\">   0.9947</td><td style=\"text-align: right;\">3.14</td><td style=\"text-align: right;\">       0.53</td><td style=\"text-align: right;\">      9.7</td><td style=\"text-align: right;\">        5</td></tr>\n",
       "<tr><td style=\"text-align: right;\">            6.6</td><td style=\"text-align: right;\">              0.16</td><td style=\"text-align: right;\">         0.4 </td><td style=\"text-align: right;\">            1.5 </td><td style=\"text-align: right;\">      0.044</td><td style=\"text-align: right;\">                   48</td><td style=\"text-align: right;\">                   143</td><td style=\"text-align: right;\">   0.9912</td><td style=\"text-align: right;\">3.54</td><td style=\"text-align: right;\">       0.52</td><td style=\"text-align: right;\">     12.4</td><td style=\"text-align: right;\">        7</td></tr>\n",
       "<tr><td style=\"text-align: right;\">            8.3</td><td style=\"text-align: right;\">              0.42</td><td style=\"text-align: right;\">         0.62</td><td style=\"text-align: right;\">           19.25</td><td style=\"text-align: right;\">      0.04 </td><td style=\"text-align: right;\">                   41</td><td style=\"text-align: right;\">                   172</td><td style=\"text-align: right;\">   1.0002</td><td style=\"text-align: right;\">2.98</td><td style=\"text-align: right;\">       0.67</td><td style=\"text-align: right;\">      9.7</td><td style=\"text-align: right;\">        5</td></tr>\n",
       "</tbody>\n",
       "</table>"
      ]
     },
     "metadata": {},
     "output_type": "display_data"
    },
    {
     "data": {
      "text/html": [
       "<table>\n",
       "<thead>\n",
       "<tr><th style=\"text-align: right;\">  fixed acidity</th><th style=\"text-align: right;\">  volatile acidity</th><th style=\"text-align: right;\">  citric acid</th><th style=\"text-align: right;\">  residual sugar</th><th style=\"text-align: right;\">  chlorides</th><th style=\"text-align: right;\">  free sulfur dioxide</th><th style=\"text-align: right;\">  total sulfur dioxide</th><th style=\"text-align: right;\">  density</th><th style=\"text-align: right;\">  pH</th><th style=\"text-align: right;\">  sulphates</th><th style=\"text-align: right;\">  alcohol</th><th style=\"text-align: right;\">  quality</th></tr>\n",
       "</thead>\n",
       "<tbody>\n",
       "<tr><td style=\"text-align: right;\">            7.2</td><td style=\"text-align: right;\">              0.23</td><td style=\"text-align: right;\">         0.32</td><td style=\"text-align: right;\">             8.5</td><td style=\"text-align: right;\">      0.058</td><td style=\"text-align: right;\">                   47</td><td style=\"text-align: right;\">                   186</td><td style=\"text-align: right;\">   0.9956</td><td style=\"text-align: right;\">3.19</td><td style=\"text-align: right;\">       0.4 </td><td style=\"text-align: right;\">      9.9</td><td style=\"text-align: right;\">        6</td></tr>\n",
       "<tr><td style=\"text-align: right;\">            6.2</td><td style=\"text-align: right;\">              0.32</td><td style=\"text-align: right;\">         0.16</td><td style=\"text-align: right;\">             7  </td><td style=\"text-align: right;\">      0.045</td><td style=\"text-align: right;\">                   30</td><td style=\"text-align: right;\">                   136</td><td style=\"text-align: right;\">   0.9949</td><td style=\"text-align: right;\">3.18</td><td style=\"text-align: right;\">       0.47</td><td style=\"text-align: right;\">      9.6</td><td style=\"text-align: right;\">        6</td></tr>\n",
       "<tr><td style=\"text-align: right;\">            7  </td><td style=\"text-align: right;\">              0.27</td><td style=\"text-align: right;\">         0.36</td><td style=\"text-align: right;\">            20.7</td><td style=\"text-align: right;\">      0.045</td><td style=\"text-align: right;\">                   45</td><td style=\"text-align: right;\">                   170</td><td style=\"text-align: right;\">   1.001 </td><td style=\"text-align: right;\">3   </td><td style=\"text-align: right;\">       0.45</td><td style=\"text-align: right;\">      8.8</td><td style=\"text-align: right;\">        6</td></tr>\n",
       "<tr><td style=\"text-align: right;\">            6.3</td><td style=\"text-align: right;\">              0.3 </td><td style=\"text-align: right;\">         0.34</td><td style=\"text-align: right;\">             1.6</td><td style=\"text-align: right;\">      0.049</td><td style=\"text-align: right;\">                   14</td><td style=\"text-align: right;\">                   132</td><td style=\"text-align: right;\">   0.994 </td><td style=\"text-align: right;\">3.3 </td><td style=\"text-align: right;\">       0.49</td><td style=\"text-align: right;\">      9.5</td><td style=\"text-align: right;\">        6</td></tr>\n",
       "<tr><td style=\"text-align: right;\">            7.9</td><td style=\"text-align: right;\">              0.18</td><td style=\"text-align: right;\">         0.37</td><td style=\"text-align: right;\">             1.2</td><td style=\"text-align: right;\">      0.04 </td><td style=\"text-align: right;\">                   16</td><td style=\"text-align: right;\">                    75</td><td style=\"text-align: right;\">   0.992 </td><td style=\"text-align: right;\">3.18</td><td style=\"text-align: right;\">       0.63</td><td style=\"text-align: right;\">     10.8</td><td style=\"text-align: right;\">        5</td></tr>\n",
       "<tr><td style=\"text-align: right;\">            6.6</td><td style=\"text-align: right;\">              0.17</td><td style=\"text-align: right;\">         0.38</td><td style=\"text-align: right;\">             1.5</td><td style=\"text-align: right;\">      0.032</td><td style=\"text-align: right;\">                   28</td><td style=\"text-align: right;\">                   112</td><td style=\"text-align: right;\">   0.9914</td><td style=\"text-align: right;\">3.25</td><td style=\"text-align: right;\">       0.55</td><td style=\"text-align: right;\">     11.4</td><td style=\"text-align: right;\">        7</td></tr>\n",
       "<tr><td style=\"text-align: right;\">            6.2</td><td style=\"text-align: right;\">              0.66</td><td style=\"text-align: right;\">         0.48</td><td style=\"text-align: right;\">             1.2</td><td style=\"text-align: right;\">      0.029</td><td style=\"text-align: right;\">                   29</td><td style=\"text-align: right;\">                    75</td><td style=\"text-align: right;\">   0.9892</td><td style=\"text-align: right;\">3.33</td><td style=\"text-align: right;\">       0.39</td><td style=\"text-align: right;\">     12.8</td><td style=\"text-align: right;\">        8</td></tr>\n",
       "<tr><td style=\"text-align: right;\">            7.4</td><td style=\"text-align: right;\">              0.34</td><td style=\"text-align: right;\">         0.42</td><td style=\"text-align: right;\">             1.1</td><td style=\"text-align: right;\">      0.033</td><td style=\"text-align: right;\">                   17</td><td style=\"text-align: right;\">                   171</td><td style=\"text-align: right;\">   0.9917</td><td style=\"text-align: right;\">3.12</td><td style=\"text-align: right;\">       0.53</td><td style=\"text-align: right;\">     11.3</td><td style=\"text-align: right;\">        6</td></tr>\n",
       "<tr><td style=\"text-align: right;\">            6.4</td><td style=\"text-align: right;\">              0.31</td><td style=\"text-align: right;\">         0.38</td><td style=\"text-align: right;\">             2.9</td><td style=\"text-align: right;\">      0.038</td><td style=\"text-align: right;\">                   19</td><td style=\"text-align: right;\">                   102</td><td style=\"text-align: right;\">   0.9912</td><td style=\"text-align: right;\">3.17</td><td style=\"text-align: right;\">       0.35</td><td style=\"text-align: right;\">     11  </td><td style=\"text-align: right;\">        7</td></tr>\n",
       "<tr><td style=\"text-align: right;\">            6.8</td><td style=\"text-align: right;\">              0.26</td><td style=\"text-align: right;\">         0.42</td><td style=\"text-align: right;\">             1.7</td><td style=\"text-align: right;\">      0.049</td><td style=\"text-align: right;\">                   41</td><td style=\"text-align: right;\">                   122</td><td style=\"text-align: right;\">   0.993 </td><td style=\"text-align: right;\">3.47</td><td style=\"text-align: right;\">       0.48</td><td style=\"text-align: right;\">     10.5</td><td style=\"text-align: right;\">        8</td></tr>\n",
       "</tbody>\n",
       "</table>"
      ]
     },
     "metadata": {},
     "output_type": "display_data"
    },
    {
     "name": "stdout",
     "output_type": "stream",
     "text": [
      "[, ]\n",
      "Training Set:  (3458, 12)\n",
      "Test Set:  (1440, 12)\n"
     ]
    }
   ],
   "source": [
    "## 將數據集拆成訓練集與測試集，並設置比例為0.7，隨機種子設123456\n",
    "dataset_split = wine_data.split_frame(ratios = [0.7], seed = 123456)\n",
    "\n",
    "## 顯示分割結果\n",
    "print(dataset_split)\n",
    "\n",
    "## 設定對應的數據集給訓練集與測試集，70%給訓練集，30%給測試集\n",
    "wine_train = dataset_split[0]\n",
    "wine_test = dataset_split[1]\n",
    "\n",
    "## 顯示訓練集與測試集大小\n",
    "print(\"Training Set: \", wine_train.shape)\n",
    "print(\"Test Set: \", wine_test.shape)"
   ]
  },
  {
   "cell_type": "code",
   "execution_count": 10,
   "metadata": {},
   "outputs": [
    {
     "name": "stdout",
     "output_type": "stream",
     "text": [
      "AutoML progress: |███\n",
      "20:41:34.796: User specified a validation frame with cross-validation still enabled. Please note that the models will still be validated using cross-validation only, the validation frame will be used to provide purely informative validation metrics on the trained models.\n",
      "20:41:54.341: AutoML: XGBoost is not available; skipping it.\n",
      "\n",
      "███████████████████████████████████Failed polling AutoML progress log: [WinError 32] 程序無法存取檔案，因為檔案正由另一個程序使用。: 'C:\\\\Users\\\\user\\\\AppData\\\\Local\\\\Temp\\\\tmp02n4rb9r.csv'\n",
      "█Failed polling AutoML progress log: [WinError 32] 程序無法存取檔案，因為檔案正由另一個程序使用。: 'C:\\\\Users\\\\user\\\\AppData\\\\Local\\\\Temp\\\\tmp27vvowwa.csv'\n",
      "█████████████████| 100%\n"
     ]
    }
   ],
   "source": [
    "## 導入AutoML套件\n",
    "from h2o.automl import H2OAutoML\n",
    "\n",
    "## 設定H2OAutoML\n",
    "# aml = H2OAutoML(max_models = 10, max_runtime_secs = 200, seed = 1, sort_metric = \"deviance\")\n",
    "aml = H2OAutoML(max_models = 10, seed = 1, sort_metric = \"deviance\")\n",
    "\n",
    "\n",
    "## 啟動H2OAutoML來訓練模型\n",
    "aml.train(x = predictors, y = 'quality', training_frame = wine_train, validation_frame = wine_test)"
   ]
  },
  {
   "cell_type": "code",
   "execution_count": 11,
   "metadata": {},
   "outputs": [
    {
     "data": {
      "text/html": [
       "<table>\n",
       "<thead>\n",
       "<tr><th>model_id                                           </th><th style=\"text-align: right;\">  mean_residual_deviance</th><th style=\"text-align: right;\">    rmse</th><th style=\"text-align: right;\">     mse</th><th style=\"text-align: right;\">     mae</th><th style=\"text-align: right;\">    rmsle</th></tr>\n",
       "</thead>\n",
       "<tbody>\n",
       "<tr><td>StackedEnsemble_AllModels_AutoML_20210126_204132   </td><td style=\"text-align: right;\">                0.382426</td><td style=\"text-align: right;\">0.618406</td><td style=\"text-align: right;\">0.382426</td><td style=\"text-align: right;\">0.442062</td><td style=\"text-align: right;\">0.0923409</td></tr>\n",
       "<tr><td>StackedEnsemble_BestOfFamily_AutoML_20210126_204132</td><td style=\"text-align: right;\">                0.382523</td><td style=\"text-align: right;\">0.618484</td><td style=\"text-align: right;\">0.382523</td><td style=\"text-align: right;\">0.441922</td><td style=\"text-align: right;\">0.0923494</td></tr>\n",
       "<tr><td>DRF_1_AutoML_20210126_204132                       </td><td style=\"text-align: right;\">                0.388463</td><td style=\"text-align: right;\">0.623268</td><td style=\"text-align: right;\">0.388463</td><td style=\"text-align: right;\">0.448745</td><td style=\"text-align: right;\">0.0932731</td></tr>\n",
       "<tr><td>XRT_1_AutoML_20210126_204132                       </td><td style=\"text-align: right;\">                0.394329</td><td style=\"text-align: right;\">0.627956</td><td style=\"text-align: right;\">0.394329</td><td style=\"text-align: right;\">0.454751</td><td style=\"text-align: right;\">0.0938197</td></tr>\n",
       "<tr><td>GBM_3_AutoML_20210126_204132                       </td><td style=\"text-align: right;\">                0.418321</td><td style=\"text-align: right;\">0.646777</td><td style=\"text-align: right;\">0.418321</td><td style=\"text-align: right;\">0.48986 </td><td style=\"text-align: right;\">0.0961511</td></tr>\n",
       "<tr><td>GBM_4_AutoML_20210126_204132                       </td><td style=\"text-align: right;\">                0.421024</td><td style=\"text-align: right;\">0.648864</td><td style=\"text-align: right;\">0.421024</td><td style=\"text-align: right;\">0.485337</td><td style=\"text-align: right;\">0.0965026</td></tr>\n",
       "<tr><td>GBM_2_AutoML_20210126_204132                       </td><td style=\"text-align: right;\">                0.43369 </td><td style=\"text-align: right;\">0.658551</td><td style=\"text-align: right;\">0.43369 </td><td style=\"text-align: right;\">0.501756</td><td style=\"text-align: right;\">0.0978215</td></tr>\n",
       "<tr><td>GBM_1_AutoML_20210126_204132                       </td><td style=\"text-align: right;\">                0.435691</td><td style=\"text-align: right;\">0.660069</td><td style=\"text-align: right;\">0.435691</td><td style=\"text-align: right;\">0.502205</td><td style=\"text-align: right;\">0.0982135</td></tr>\n",
       "<tr><td>GBM_5_AutoML_20210126_204132                       </td><td style=\"text-align: right;\">                0.464828</td><td style=\"text-align: right;\">0.681783</td><td style=\"text-align: right;\">0.464828</td><td style=\"text-align: right;\">0.527855</td><td style=\"text-align: right;\">0.101092 </td></tr>\n",
       "<tr><td>GBM_grid__1_AutoML_20210126_204132_model_1         </td><td style=\"text-align: right;\">                0.469026</td><td style=\"text-align: right;\">0.684855</td><td style=\"text-align: right;\">0.469026</td><td style=\"text-align: right;\">0.532349</td><td style=\"text-align: right;\">0.101349 </td></tr>\n",
       "</tbody>\n",
       "</table>"
      ]
     },
     "metadata": {},
     "output_type": "display_data"
    },
    {
     "name": "stdout",
     "output_type": "stream",
     "text": [
      "\n",
      "Model Details\n",
      "=============\n",
      "H2OStackedEnsembleEstimator :  Stacked Ensemble\n",
      "Model Key:  StackedEnsemble_AllModels_AutoML_20210126_204132\n",
      "\n",
      "No model summary for this model\n",
      "\n",
      "ModelMetricsRegressionGLM: stackedensemble\n",
      "** Reported on train data. **\n",
      "\n",
      "MSE: 0.05072837643691723\n",
      "RMSE: 0.22522960825992047\n",
      "MAE: 0.1637152360236176\n",
      "RMSLE: 0.03397513246536877\n",
      "R^2: 0.9350003955564151\n",
      "Mean Residual Deviance: 0.05072837643691723\n",
      "Null degrees of freedom: 3457\n",
      "Residual degrees of freedom: 3453\n",
      "Null deviance: 2698.766049739733\n",
      "Residual deviance: 175.41872571885978\n",
      "AIC: -483.8521831319914\n",
      "\n",
      "ModelMetricsRegressionGLM: stackedensemble\n",
      "** Reported on validation data. **\n",
      "\n",
      "MSE: 0.3874135340456473\n",
      "RMSE: 0.6224255248988808\n",
      "MAE: 0.4493881422289549\n",
      "RMSLE: 0.09422669883741058\n",
      "R^2: 0.5115849343794721\n",
      "Mean Residual Deviance: 0.3874135340456473\n",
      "Null degrees of freedom: 1439\n",
      "Residual degrees of freedom: 1435\n",
      "Null deviance: 1142.2269775519906\n",
      "Residual deviance: 557.8754890257321\n",
      "AIC: 2733.0448416598815\n",
      "\n",
      "ModelMetricsRegressionGLM: stackedensemble\n",
      "** Reported on cross-validation data. **\n",
      "\n",
      "MSE: 0.3824255097572113\n",
      "RMSE: 0.6184056191183998\n",
      "MAE: 0.44206242427822307\n",
      "RMSLE: 0.0923409018645722\n",
      "R^2: 0.5099881248069049\n",
      "Mean Residual Deviance: 0.3824255097572113\n",
      "Null degrees of freedom: 3457\n",
      "Residual degrees of freedom: 3453\n",
      "Null deviance: 2702.2576285023542\n",
      "Residual deviance: 1322.4274127404367\n",
      "AIC: 6501.475327592803\n",
      "\n",
      "Model Details\n",
      "=============\n",
      "H2OStackedEnsembleEstimator :  Stacked Ensemble\n",
      "Model Key:  StackedEnsemble_AllModels_AutoML_20210126_204132\n",
      "\n",
      "No model summary for this model\n",
      "\n",
      "ModelMetricsRegressionGLM: stackedensemble\n",
      "** Reported on train data. **\n",
      "\n",
      "MSE: 0.05072837643691723\n",
      "RMSE: 0.22522960825992047\n",
      "MAE: 0.1637152360236176\n",
      "RMSLE: 0.03397513246536877\n",
      "R^2: 0.9350003955564151\n",
      "Mean Residual Deviance: 0.05072837643691723\n",
      "Null degrees of freedom: 3457\n",
      "Residual degrees of freedom: 3453\n",
      "Null deviance: 2698.766049739733\n",
      "Residual deviance: 175.41872571885978\n",
      "AIC: -483.8521831319914\n",
      "\n",
      "ModelMetricsRegressionGLM: stackedensemble\n",
      "** Reported on validation data. **\n",
      "\n",
      "MSE: 0.3874135340456473\n",
      "RMSE: 0.6224255248988808\n",
      "MAE: 0.4493881422289549\n",
      "RMSLE: 0.09422669883741058\n",
      "R^2: 0.5115849343794721\n",
      "Mean Residual Deviance: 0.3874135340456473\n",
      "Null degrees of freedom: 1439\n",
      "Residual degrees of freedom: 1435\n",
      "Null deviance: 1142.2269775519906\n",
      "Residual deviance: 557.8754890257321\n",
      "AIC: 2733.0448416598815\n",
      "\n",
      "ModelMetricsRegressionGLM: stackedensemble\n",
      "** Reported on cross-validation data. **\n",
      "\n",
      "MSE: 0.3824255097572113\n",
      "RMSE: 0.6184056191183998\n",
      "MAE: 0.44206242427822307\n",
      "RMSLE: 0.0923409018645722\n",
      "R^2: 0.5099881248069049\n",
      "Mean Residual Deviance: 0.3824255097572113\n",
      "Null degrees of freedom: 3457\n",
      "Residual degrees of freedom: 3453\n",
      "Null deviance: 2702.2576285023542\n",
      "Residual deviance: 1322.4274127404367\n",
      "AIC: 6501.475327592803\n",
      "<bound method H2OStackedEnsembleEstimator.metalearner of >\n"
     ]
    }
   ],
   "source": [
    "## 印出模型排行榜\n",
    "lb = aml.leaderboard\n",
    "print(lb)\n",
    "\n",
    "## 印出所有行數\n",
    "# lb.head(rows = lb.nrows)\n",
    "\n",
    "## 顯示最佳模型資訊\n",
    "print(aml.leader)\n",
    "\n",
    "## 顯示最佳模型的詳細資訊\n",
    "print(aml.leader.metalearner)"
   ]
  },
  {
   "cell_type": "code",
   "execution_count": 12,
   "metadata": {},
   "outputs": [
    {
     "name": "stderr",
     "output_type": "stream",
     "text": [
      "C:\\Users\\user\\anaconda3\\lib\\site-packages\\h2o\\estimators\\stackedensemble.py:821: H2ODeprecationWarning: The usage of stacked_ensemble.metalearner()['name'] will be deprecated. Metalearner now returns the metalearner object. If you need to get the 'name' please use stacked_ensemble.metalearner().model_id\n",
      "  H2ODeprecationWarning\n"
     ]
    },
    {
     "data": {
      "image/png": "[encoded data removed]",
      "text/plain": [
       "<Figure size 1008x720 with 1 Axes>"
      ]
     },
     "metadata": {
      "needs_background": "light"
     },
     "output_type": "display_data"
    }
   ],
   "source": [
    "## 取得最佳模型的model_id，也就是模型資料中的 Model Key\n",
    "metalearner = h2o.get_model(aml.leader.metalearner()['name'])\n",
    "\n",
    "## 視覺化: 最佳模型底下的各種演算法模型的標準化係數比較\n",
    "metalearner.std_coef_plot()"
   ]
  },
  {
   "cell_type": "code",
   "execution_count": 13,
   "metadata": {},
   "outputs": [
    {
     "name": "stdout",
     "output_type": "stream",
     "text": [
      "stackedensemble prediction progress: |████████████████████████████████████| 100%\n"
     ]
    },
    {
     "data": {
      "text/html": [
       "<table>\n",
       "<thead>\n",
       "<tr><th style=\"text-align: right;\">  predict</th></tr>\n",
       "</thead>\n",
       "<tbody>\n",
       "<tr><td style=\"text-align: right;\">  5.83077</td></tr>\n",
       "<tr><td style=\"text-align: right;\">  5.1373 </td></tr>\n",
       "<tr><td style=\"text-align: right;\">  5.80043</td></tr>\n",
       "<tr><td style=\"text-align: right;\">  5.62884</td></tr>\n",
       "<tr><td style=\"text-align: right;\">  6.04504</td></tr>\n",
       "<tr><td style=\"text-align: right;\">  6.47445</td></tr>\n",
       "<tr><td style=\"text-align: right;\">  7.09154</td></tr>\n",
       "<tr><td style=\"text-align: right;\">  5.70645</td></tr>\n",
       "<tr><td style=\"text-align: right;\">  6.16501</td></tr>\n",
       "<tr><td style=\"text-align: right;\">  6.53739</td></tr>\n",
       "</tbody>\n",
       "</table>"
      ]
     },
     "metadata": {},
     "output_type": "display_data"
    },
    {
     "name": "stdout",
     "output_type": "stream",
     "text": [
      "\n",
      "\n",
      "ModelMetricsRegressionGLM: stackedensemble\n",
      "** Reported on test data. **\n",
      "\n",
      "MSE: 0.3874135340456473\n",
      "RMSE: 0.6224255248988808\n",
      "MAE: 0.4493881422289549\n",
      "RMSLE: 0.09422669883741058\n",
      "R^2: 0.5115849343794721\n",
      "Mean Residual Deviance: 0.3874135340456473\n",
      "Null degrees of freedom: 1439\n",
      "Residual degrees of freedom: 1435\n",
      "Null deviance: 1142.2269775519906\n",
      "Residual deviance: 557.8754890257321\n",
      "AIC: 2733.0448416598815\n",
      "\n"
     ]
    },
    {
     "name": "stderr",
     "output_type": "stream",
     "text": [
      "C:\\Users\\user\\anaconda3\\lib\\site-packages\\ipykernel_launcher.py:10: H2ODeprecationWarning: Deprecated, use ``h2o.cluster().shutdown()``.\n",
      "  # Remove the CWD from sys.path while we load stuff.\n"
     ]
    },
    {
     "name": "stdout",
     "output_type": "stream",
     "text": [
      "H2O session _sid_9cd0 closed.\n"
     ]
    }
   ],
   "source": [
    "## 拿最佳模型預測測試集資料\n",
    "preds = aml.leader.predict(wine_test)\n",
    "print(preds)\n",
    "\n",
    "## 評估最佳模型的性能表現\n",
    "score = aml.leader.model_performance(wine_test)\n",
    "print(score)\n",
    "\n",
    "## 關閉H2O\n",
    "h2o.shutdown()"
   ]
  },
  {
   "cell_type": "code",
   "execution_count": null,
   "metadata": {},
   "outputs": [],
   "source": []
  },
  {
   "cell_type": "code",
   "execution_count": null,
   "metadata": {},
   "outputs": [],
   "source": []
  }
 ],
 "metadata": {
  "kernelspec": {
   "display_name": "Python 3",
   "language": "python",
   "name": "python3"
  },
  "language_info": {
   "codemirror_mode": {
    "name": "ipython",
    "version": 3
   },
   "file_extension": ".py",
   "mimetype": "text/x-python",
   "name": "python",
   "nbconvert_exporter": "python",
   "pygments_lexer": "ipython3",
   "version": "3.7.6"
  }
 },
 "nbformat": 4,
 "nbformat_minor": 4
}
